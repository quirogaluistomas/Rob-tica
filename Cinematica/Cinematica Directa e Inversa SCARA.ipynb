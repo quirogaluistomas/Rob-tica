{
 "cells": [
  {
   "cell_type": "code",
   "execution_count": 1,
   "metadata": {},
   "outputs": [],
   "source": [
    "import numpy as np\n",
    "import scipy as sp"
   ]
  },
  {
   "cell_type": "code",
   "execution_count": 2,
   "metadata": {},
   "outputs": [],
   "source": [
    "#Armamos la matriz de rototraslación directa enviando por parámetros q1, q2, etc y las distancias a1,a2, etc\n",
    "\n",
    "def pcd_SCARA(q,a):\n",
    "    \n",
    "    q12 = q[0] + q[1]\n",
    "    q124 = q12 + q[3]\n",
    "    \n",
    "    \n",
    "    POSE = np.matrix([[np.cos(q124), -np.sin(q124), 0, a[0]*np.cos(q[0])+a[1]*np.cos(q12)],\n",
    "                      [np.sin(q124), np.cos(q124), 0, a[0]*np.sin(q[0])+a[1]*np.sin(q12)],\n",
    "                      [0, 0, 1, q[2]],\n",
    "                      [0, 0, 0, 1]])\n",
    "    \n",
    "    np.set_printoptions(suppress=True) #Suprime la notación científica\n",
    "\n",
    "    conf = np.sign(q[1])\n",
    "    \n",
    "    if conf == 0:\n",
    "        conf = 1\n",
    "        \n",
    "    return(POSE, conf)"
   ]
  },
  {
   "cell_type": "code",
   "execution_count": 3,
   "metadata": {},
   "outputs": [
    {
     "data": {
      "text/plain": [
       "(matrix([[ 1. , -0. ,  0. ,  0.4],\n",
       "         [ 0. ,  1. ,  0. ,  0. ],\n",
       "         [ 0. ,  0. ,  1. ,  0. ],\n",
       "         [ 0. ,  0. ,  0. ,  1. ]]),\n",
       " 1)"
      ]
     },
     "execution_count": 3,
     "metadata": {},
     "output_type": "execute_result"
    }
   ],
   "source": [
    "a = np.transpose(np.array([0.2, 0.2]))\n",
    "q = np.transpose(np.array([0, 0, 0, 0]))\n",
    "\n",
    "pcd_SCARA(q,a)\n"
   ]
  },
  {
   "cell_type": "markdown",
   "metadata": {},
   "source": [
    "##### Observar que al darnos como matriz de rotación la identidad es lógico y nos indica que la terna 4 coincide en orientación con la 0. Por otro lado sucede también que nos indica que la herramienta o \"tcp\" u origen de la terna 4 se encuentra a 400mm del origen. Lógico pues el brazo está totalmente extendido pues q1 q2 son 0"
   ]
  },
  {
   "cell_type": "code",
   "execution_count": 4,
   "metadata": {},
   "outputs": [],
   "source": [
    "# Ahora rotamos el brazo extendido 90 grados en q1 lo que haría que q4 quede mirando hacia la izquierda en -180 grados.\n",
    "# Recordar que la matriz es A^{4}_{0} por lo tanto todo está referenciado a la terna 0"
   ]
  },
  {
   "cell_type": "code",
   "execution_count": 5,
   "metadata": {},
   "outputs": [
    {
     "data": {
      "text/plain": [
       "(matrix([[ 0. , -1. ,  0. ,  0. ],\n",
       "         [ 1. ,  0. ,  0. ,  0.4],\n",
       "         [ 0. ,  0. ,  1. ,  0. ],\n",
       "         [ 0. ,  0. ,  0. ,  1. ]]),\n",
       " 1)"
      ]
     },
     "execution_count": 5,
     "metadata": {},
     "output_type": "execute_result"
    }
   ],
   "source": [
    "a = np.transpose(np.array([0.2, 0.2]))\n",
    "q = np.transpose(np.array([np.pi/2, 0, 0, 0]))\n",
    "\n",
    "pcd_SCARA(q,a)\n"
   ]
  },
  {
   "cell_type": "code",
   "execution_count": 6,
   "metadata": {},
   "outputs": [
    {
     "name": "stdout",
     "output_type": "stream",
     "text": [
      "[[ 0.  -1.   0.   0.2]\n",
      " [ 1.   0.   0.   0.2]\n",
      " [ 0.   0.   1.   0. ]\n",
      " [ 0.   0.   0.   1. ]]\n"
     ]
    }
   ],
   "source": [
    "# Más ejemplos de cómo se rotaría por ejemplo el eslabón 2\n",
    "\n",
    "a = np.transpose(np.array([0.2, 0.2]))\n",
    "q = np.transpose(np.array([0, np.pi/2, 0, 0]))\n",
    "\n",
    "[pose,signo] = pcd_SCARA(q,a)\n",
    "\n",
    "print(pose)"
   ]
  },
  {
   "cell_type": "markdown",
   "metadata": {},
   "source": [
    "# Cinemática Inversa"
   ]
  },
  {
   "cell_type": "code",
   "execution_count": 7,
   "metadata": {},
   "outputs": [],
   "source": [
    "#Resolvemos el problema inverso. Dada una matriz de rototraslación queremos ver las articulaciones. Ver en las diapositivas el\n",
    "#calculo de estos parámetros\n",
    "\n",
    "def pcinv_SCARA(POSE,conf,a):\n",
    "    \n",
    "    px = POSE.item((0,3))\n",
    "    py = POSE.item((1,3))\n",
    "    pz = POSE.item((2,3))\n",
    "    \n",
    "    if (px**2 + py**2) > (a[0] + a[1])**2:\n",
    "        \n",
    "        return(print(\"El punto no es alcanzable, error en la matriz de rototraslación\"))\n",
    "        #q = np.zeros(1,2)\n",
    "    else:    \n",
    "    \n",
    "        c2 = (px**2 + py**2 - (a[0]**2 + a[1]**2))/(2*a[0]*a[1])\n",
    "    \n",
    "        s2 = conf*np.sqrt(1-c2**2)\n",
    "        \n",
    "        q[1] = np.arctan2(s2,c2) #Este es q2\n",
    "    \n",
    "        c1 = (a[1]*(py*s2 + px*c2) + a[0]*px)/(px**2 + py**2)\n",
    "        \n",
    "        s1 = (a[1]*(py*c2 - px*s2) + a[0]*py)/(px**2 + py**2)\n",
    "        \n",
    "        q[0] = np.arctan2(s1,c1)\n",
    "    \n",
    "        q[2] = pz\n",
    "        \n",
    "        q[3] = np.arctan2(POSE.item((1,0)), POSE.item((0,0))) - q[0] - q[1]\n",
    "    \n",
    "        np.set_printoptions(suppress=True) #Suprime la notación científica\n",
    "    \n",
    "        return(q)"
   ]
  },
  {
   "cell_type": "code",
   "execution_count": 8,
   "metadata": {},
   "outputs": [
    {
     "name": "stdout",
     "output_type": "stream",
     "text": [
      "[0.         1.57079633 0.         0.        ]\n",
      "\n",
      "\n",
      "[ 1.57079633 -1.57079633  0.          1.57079633]\n"
     ]
    }
   ],
   "source": [
    "qinv = pcinv_SCARA(pose, 1, a)\n",
    "print(qinv)\n",
    "print(\"\\n\")\n",
    "qinv = pcinv_SCARA(pose, -1, a)\n",
    "print(qinv)"
   ]
  },
  {
   "cell_type": "code",
   "execution_count": 9,
   "metadata": {},
   "outputs": [
    {
     "name": "stdout",
     "output_type": "stream",
     "text": [
      "[[ 0.  -1.   0.   0.2]\n",
      " [ 1.   0.   0.   0.2]\n",
      " [ 0.   0.   1.   0. ]\n",
      " [ 0.   0.   0.   1. ]]\n"
     ]
    }
   ],
   "source": [
    "#Chequeamos que la última que es media rara porque no nos devuelve el q vector que mandamos nos lleve de todas maneras a la\n",
    "#misma matriz de rototraslación\n",
    "[pose_prueba,signo] = pcd_SCARA(qinv,a)\n",
    "\n",
    "print(pose_prueba)"
   ]
  },
  {
   "cell_type": "markdown",
   "metadata": {},
   "source": [
    "# Singularidad (Brazo extendido =>q2=0)"
   ]
  },
  {
   "cell_type": "code",
   "execution_count": 12,
   "metadata": {},
   "outputs": [
    {
     "name": "stdout",
     "output_type": "stream",
     "text": [
      "[[ 0.  -1.   0.   0.4]\n",
      " [ 1.   0.   0.   0. ]\n",
      " [ 0.   0.   1.   0. ]\n",
      " [ 0.   0.   0.   1. ]]\n",
      "[0.         0.         0.         1.57079633]\n"
     ]
    }
   ],
   "source": [
    "[pose_singularidad,signo] = pcd_SCARA(np.transpose(np.array([0,0,0,np.pi/2])),a)\n",
    "\n",
    "print(pose_singularidad)\n",
    "\n",
    "qinv = pcinv_SCARA(pose_singularidad, 1, a)\n",
    "\n",
    "print(qinv)\n",
    "#Vemos que no hay problema pero a veces pasa que el arctan2(0,0) dan infinitas soluciones, no en este roboto pero sí en el \n",
    "#IRB140"
   ]
  }
 ],
 "metadata": {
  "kernelspec": {
   "display_name": "Python 3",
   "language": "python",
   "name": "python3"
  },
  "language_info": {
   "codemirror_mode": {
    "name": "ipython",
    "version": 3
   },
   "file_extension": ".py",
   "mimetype": "text/x-python",
   "name": "python",
   "nbconvert_exporter": "python",
   "pygments_lexer": "ipython3",
   "version": "3.8.2"
  }
 },
 "nbformat": 4,
 "nbformat_minor": 4
}
