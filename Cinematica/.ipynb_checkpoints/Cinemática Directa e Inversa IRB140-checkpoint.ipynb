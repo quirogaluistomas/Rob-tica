{
 "cells": [
  {
   "cell_type": "code",
   "execution_count": 1,
   "metadata": {},
   "outputs": [],
   "source": [
    "import numpy as np\n",
    "import scipy as sp"
   ]
  },
  {
   "cell_type": "markdown",
   "metadata": {},
   "source": [
    "# Cinemática Directa IRB140"
   ]
  },
  {
   "cell_type": "code",
   "execution_count": 2,
   "metadata": {},
   "outputs": [],
   "source": [
    "#Se determina la matriz A^6_0 y se determina el vector de configuración/signo conf. Recibe parámetros DH y vector q.\n",
    "\n",
    "def pcd_IRB140(q, a, d, alfa):\n",
    "    \n",
    "    POSE = np.eye(4)\n",
    "    conf = np.empty(3)\n",
    "    \n",
    "    for i in range(0,6):\n",
    "        \n",
    "        #Matriz genérica\n",
    "        A = np.matrix([[np.cos(q[i]), -np.sin(q[i])*np.cos(alfa[i]), np.sin(q[i])*np.sin(alfa[i]), a[i]*np.cos(q[i])],\n",
    "                      [np.sin(q[i]), np.cos(q[i])*np.cos(alfa[i]), -np.cos(q[i])*np.sin(alfa[i]), a[i]*np.sin(q[i])],\n",
    "                      [0, np.sin(alfa[i]), np.cos(alfa[i]), d[i]],\n",
    "                      [0, 0, 0, 1]])\n",
    "        \n",
    "        POSE = POSE.dot(A)\n",
    "        \n",
    "    \n",
    "    #Calculo del vector de configuracion\n",
    "    \n",
    "    conf[0] = np.sign(d[3]*np.sin(q[1] + q[2]) + a[1]*np.cos(q[1]) + a[0])\n",
    "    conf[1] = np.sign(np.cos(q[2]))\n",
    "    conf[2] = np.sign(q[4])\n",
    "    conf[conf == 0] = 1\n",
    "    \n",
    "    np.set_printoptions(suppress=True) #Suprime la notación científica\n",
    "\n",
    "        \n",
    "    return(POSE, conf)"
   ]
  },
  {
   "cell_type": "markdown",
   "metadata": {},
   "source": [
    "# Cinemática Inversa IRB140"
   ]
  },
  {
   "cell_type": "code",
   "execution_count": 3,
   "metadata": {},
   "outputs": [],
   "source": [
    "def pci_IRB140(POSE, a, d, alfa, conf, q1_actual, q4_actual):\n",
    "    \n",
    "    #Inicializo el vector de variables articulares\n",
    "    q = np.zeros(6)\n",
    "    #print(q)\n",
    "    \n",
    "    #Resuelvo el problema de posición\n",
    "    px = POSE.item((0,3))\n",
    "    py = POSE.item((1,3))\n",
    "    pz = POSE.item((2,3))\n",
    "    \n",
    "    #Cálculo de q1 (q[0])\n",
    "    s1 = conf[0]*py\n",
    "    c1 = conf[0]*px\n",
    "    \n",
    "    #Acá hay problema con la indeterminación en (0,0) que es la posición sobre el eje z0.\n",
    "    if (px == 0) and (py == 0):\n",
    "        q[0] = q1_actual\n",
    "    else:\n",
    "        q[0] = np.arctan2(s1,c1)\n",
    "    \n",
    "    \n",
    "    #Cálculo de q3 Codo\n",
    "    \n",
    "    s3 = ((px*np.cos(q[0]) + py*np.sin(q[0]) - a[0])**2 + pz**2 - a[1]**2 - d[3]**2)/(2*a[1]*d[3])\n",
    "    \n",
    "    if np.absolute(s3) > 1 :\n",
    "        print(\"El punto no es alcanzable\")\n",
    "        return 0\n",
    "        \n",
    "    c3 = conf[1]*np.sqrt(1-(s3**2))\n",
    "    q[2] = np.arctan2(s3,c3)\n",
    "    \n",
    "    \n",
    "    #Cálculo de q2\n",
    "    \n",
    "    s2 = ((px*np.cos(q[0]) + py*np.sin(q[0]) - a[0])*(d[3]*np.cos(q[2]))) - (pz*(d[3]*np.sin(q[2]) + a[1]));\n",
    "    c2 = ((px*np.cos(q[0]) + py*np.sin(q[0]) - a[0])*((d[3]*np.sin(q[2])) + a[1])) + (pz*d[3]*np.cos(q[2]));\n",
    "    q[1] = np.arctan2(s2,c2)\n",
    "    \n",
    "    \n",
    "    #Resuelvo la orientación calculando R^6_3\n",
    "    \n",
    "    R_3_0 = np.eye(3)\n",
    "    \n",
    "    for i in range(0,3):\n",
    "        #Esto que viene ahora sale del problema directo porque toma sólo la de rotación 3x3\n",
    "        A = np.matrix([[np.cos(q[i]), -np.sin(q[i])*np.cos(alfa[i]), np.sin(q[i])*np.sin(alfa[i]), a[i]*np.cos(q[i])],\n",
    "                      [np.sin(q[i]), np.cos(q[i])*np.cos(alfa[i]), -np.cos(q[i])*np.sin(alfa[i]), a[i]*np.sin(q[i])],\n",
    "                      [0, np.sin(alfa[i]), np.cos(alfa[i]), d[i]],\n",
    "                      [0, 0, 0, 1]])\n",
    "        \n",
    "        R_3_0 = R_3_0*A[0:3,0:3]\n",
    "    \n",
    "    R_6_0 = POSE[0:3, 0:3]\n",
    "\n",
    "    R_6_3 = (np.transpose(R_3_0)).dot(R_6_0)\n",
    "    #print(R_6_3)\n",
    "    #Cálculo q5\n",
    "    \n",
    "    c5 = R_6_3.item((2,2))\n",
    "    s5 = np.sqrt(1-c5**2)\n",
    "    q[4] = np.arctan2(conf[2]*s5, c5)\n",
    "    \n",
    "    #Para salvar la indeterminación de c5 = 1 (az' = 1) que hace que ax' = ay' = 0 y sz' = nz' = 0 (ortogonal) hacemos:\n",
    "    \n",
    "    if (np.absolute(R_6_3.item((1,2))) < 1e-12) and (np.absolute(R_6_3.item((0,2))) < 1e-12) :\n",
    "        \n",
    "        q[3] = q4_actual #Cálculo de q4\n",
    "        q[5] = np.arctan2(R_6_3.item((1,0)), R_6_3.item((0,0))) - q4_actual #Cálculo de q6\n",
    "    else:\n",
    "        #Cálculo de q4\n",
    "\n",
    "        s4 = conf[2]*R_6_3.item((1,2))\n",
    "        c4 = conf[2]*R_6_3.item((0,2))\n",
    "        q[3] = np.arctan2(s4,c4)\n",
    "\n",
    "        #Cálculo de q6\n",
    "\n",
    "        s6 = conf[2]*R_6_3.item((2,1))\n",
    "        c6 = -conf[2]*R_6_3.item((2,0))\n",
    "        q[5] = np.arctan2(s6,c6)\n",
    "\n",
    "        \n",
    "    #np.set_printoptions(suppress=True) #Suprime la notación científica\n",
    "    \n",
    "    return (q)"
   ]
  },
  {
   "cell_type": "code",
   "execution_count": 4,
   "metadata": {},
   "outputs": [
    {
     "name": "stdout",
     "output_type": "stream",
     "text": [
      "Veremos como queda la terna 6 en términos de la terna 0\n",
      "[[ -1.  -0.   0. 450.]\n",
      " [  0.   1.   0.   0.]\n",
      " [ -0.   0.  -1. 360.]\n",
      " [  0.   0.   0.   1.]] <class 'numpy.matrix'> \n",
      "\n",
      "Brazo adelante, codo negativo, muñeca positiva\n",
      "[ 1. -1.  1.] <class 'numpy.ndarray'> \n",
      "\n",
      "El vector de posiciones articulares es: \n",
      "\n",
      "<class 'numpy.ndarray'> \n",
      " [[ 0.        ]\n",
      " [-1.57079633]\n",
      " [ 3.14159265]\n",
      " [ 0.        ]\n",
      " [ 1.57079633]\n",
      " [ 0.        ]]\n"
     ]
    }
   ],
   "source": [
    "#Pruebo el IRB140\n",
    "\n",
    "q_slide50 = np.transpose(np.array([0, -np.pi/2, np.pi, 0, np.pi/2, 0]))\n",
    "#print(q_slide50*180/np.pi)\n",
    "a = np.array([70, 360, 0, 0, 0, 0])\n",
    "d = np.array([0, 0, 0, 380, 0, 0])\n",
    "alfa = np.array([-np.pi/2, 0, np.pi/2, -np.pi/2, np.pi/2, 0])\n",
    "\n",
    "[POSE,conf] = pcd_IRB140(q_slide50, a, d, alfa)\n",
    "\n",
    "print(\"Veremos como queda la terna 6 en términos de la terna 0\")\n",
    "print(POSE,type(POSE),\"\\n\")\n",
    "\n",
    "print(\"Brazo adelante, codo negativo, muñeca positiva\")\n",
    "print(conf, type(conf), \"\\n\")\n",
    "\n",
    "q = pci_IRB140(POSE, a, d, alfa, conf, 0, 0)\n",
    "print(\"El vector de posiciones articulares es: \\n\")\n",
    "print(type(q),\"\\n\",np.transpose(np.matrix(q)))"
   ]
  },
  {
   "cell_type": "markdown",
   "metadata": {},
   "source": [
    "##### Pudimos chequear que nos devuelve las posiciones articulares que esperamos"
   ]
  },
  {
   "cell_type": "code",
   "execution_count": 5,
   "metadata": {},
   "outputs": [
    {
     "name": "stdout",
     "output_type": "stream",
     "text": [
      "[[ -0.  -0.   1. 450.]\n",
      " [  1.   0.   0.   0.]\n",
      " [  0.   1.   0. 360.]\n",
      " [  0.   0.   0.   1.]]\n",
      "\n",
      " [[ 0.        ]\n",
      " [-1.57079633]\n",
      " [ 3.14159265]\n",
      " [ 0.        ]\n",
      " [ 0.        ]\n",
      " [ 1.57079633]]\n"
     ]
    }
   ],
   "source": [
    "#Chequeamos ahora con otro ejemplo donde saltó la ficha que algo faltaba ajustar.. \n",
    "\n",
    "q = [0, -np.pi/2, np.pi, 0, 0, np.pi/2]\n",
    "[POSE,conf] = pcd_IRB140(q, a, d, alfa)\n",
    "print(POSE)\n",
    "qinv = pci_IRB140(POSE,a,d,alfa,conf,0,0)\n",
    "print(\"\\n\",np.transpose(np.matrix(qinv)))\n",
    "\n"
   ]
  },
  {
   "cell_type": "code",
   "execution_count": 7,
   "metadata": {},
   "outputs": [
    {
     "name": "stdout",
     "output_type": "stream",
     "text": [
      "\n",
      " [[ 0.        ]\n",
      " [-1.57079633]\n",
      " [ 3.14159265]\n",
      " [ 0.1       ]\n",
      " [ 0.        ]\n",
      " [ 1.47079633]]\n",
      "[[ -0.  -0.   1. 450.]\n",
      " [  1.   0.   0.   0.]\n",
      " [ -0.   1.   0. 360.]\n",
      " [  0.   0.   0.   1.]]\n"
     ]
    }
   ],
   "source": [
    "qinv = pci_IRB140(POSE,a,d,alfa,conf,0,0.1)\n",
    "print(\"\\n\",np.transpose(np.matrix(qinv)))\n",
    "[POSE2,conf] = pcd_IRB140(qinv, a, d, alfa)\n",
    "print(POSE2)"
   ]
  }
 ],
 "metadata": {
  "kernelspec": {
   "display_name": "Python 3",
   "language": "python",
   "name": "python3"
  },
  "language_info": {
   "codemirror_mode": {
    "name": "ipython",
    "version": 3
   },
   "file_extension": ".py",
   "mimetype": "text/x-python",
   "name": "python",
   "nbconvert_exporter": "python",
   "pygments_lexer": "ipython3",
   "version": "3.8.2"
  }
 },
 "nbformat": 4,
 "nbformat_minor": 4
}
