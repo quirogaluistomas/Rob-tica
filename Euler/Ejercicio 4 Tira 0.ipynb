{
 "cells": [
  {
   "cell_type": "code",
   "execution_count": 2,
   "metadata": {},
   "outputs": [],
   "source": [
    "import numpy as np\n",
    "import scipy as sp"
   ]
  },
  {
   "cell_type": "code",
   "execution_count": 3,
   "metadata": {},
   "outputs": [
    {
     "name": "stdout",
     "output_type": "stream",
     "text": [
      "[[ 0 -1  0  2]\n",
      " [-1  0  0  2]\n",
      " [ 0  0 -1  0]\n",
      " [ 0  0  0  1]]\n"
     ]
    }
   ],
   "source": [
    "#Armamos la matriz de rototraslación a ojo según el gráfico.\n",
    "\n",
    "A_01 = np.transpose(np.matrix([[1,0,0,0],[0,0,-1,0],[0,1,0,0],[0,2,0,1]]))\n",
    "#print(A_01)\n",
    "A_12 = np.transpose(np.matrix([[0,0,-1,0],[-1,0,0,0],[0,1,0,0],[2,0,0,1]]))\n",
    "#print(A_12)\n",
    "\n",
    "A_02 = A_01.dot(A_12)\n",
    "print(A_02)"
   ]
  },
  {
   "cell_type": "code",
   "execution_count": 10,
   "metadata": {},
   "outputs": [
    {
     "name": "stdout",
     "output_type": "stream",
     "text": [
      "[[-1]\n",
      " [ 0]\n",
      " [ 0]\n",
      " [ 0]]\n"
     ]
    }
   ],
   "source": [
    "VECTOR = np.transpose(np.matrix([0,1,0,0]))\n",
    "\n",
    "print(A_02.dot(VECTOR))"
   ]
  },
  {
   "cell_type": "code",
   "execution_count": 11,
   "metadata": {},
   "outputs": [
    {
     "name": "stdout",
     "output_type": "stream",
     "text": [
      "[[ 0]\n",
      " [-1]\n",
      " [ 0]]\n"
     ]
    }
   ],
   "source": [
    "VECTOR2 = np.transpose(np.matrix([1,0,0]))\n",
    "A_20 = np.transpose(np.matrix([[0,-1,0],[-1,0,0],[0,0,-1]]))\n",
    "print(A_20.dot(VECTOR2))"
   ]
  }
 ],
 "metadata": {
  "kernelspec": {
   "display_name": "Python 3",
   "language": "python",
   "name": "python3"
  },
  "language_info": {
   "codemirror_mode": {
    "name": "ipython",
    "version": 3
   },
   "file_extension": ".py",
   "mimetype": "text/x-python",
   "name": "python",
   "nbconvert_exporter": "python",
   "pygments_lexer": "ipython3",
   "version": "3.8.2"
  }
 },
 "nbformat": 4,
 "nbformat_minor": 4
}
