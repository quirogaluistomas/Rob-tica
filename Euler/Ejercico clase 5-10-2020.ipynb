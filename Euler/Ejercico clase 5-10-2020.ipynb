{
 "cells": [
  {
   "cell_type": "code",
   "execution_count": 1,
   "metadata": {},
   "outputs": [],
   "source": [
    "import numpy as np\n",
    "import scipy as sp"
   ]
  },
  {
   "cell_type": "markdown",
   "metadata": {},
   "source": [
    "### Definimos nuestras funciones para rotación sobre un eje k cualquiera un cierto ángulo"
   ]
  },
  {
   "cell_type": "code",
   "execution_count": 14,
   "metadata": {},
   "outputs": [],
   "source": [
    "def rotK(ejek, angulo):\n",
    "    \n",
    "    ejek = ejek/np.linalg.norm(ejek)\n",
    "    ejek = np.transpose(ejek)\n",
    "    termino1 = np.cos(angulo)*np.eye(3)\n",
    "\n",
    "    termino2 = (1-np.cos(angulo))*(ejek*np.transpose(ejek))\n",
    "\n",
    "    termino3 = np.sin(angulo)*antisim(ejek)\n",
    "\n",
    "    RotacionEjeK = termino1 + termino2 + termino3\n",
    "    \n",
    "    return(RotacionEjeK)"
   ]
  },
  {
   "cell_type": "code",
   "execution_count": 15,
   "metadata": {},
   "outputs": [],
   "source": [
    "def antisim(ejeK):\n",
    "    \n",
    "    aux = [[0, -ejeK.item((2,0)), ejeK.item((1,0))], [ejeK.item((2,0)), 0, -ejeK.item((0,0))], [-ejeK.item((1,0)), ejeK.item((0,0)), 0]]\n",
    "    matrizSkew = np.matrix(aux)\n",
    "    #print(matrizSkew)\n",
    "    return(matrizSkew)"
   ]
  },
  {
   "cell_type": "code",
   "execution_count": 18,
   "metadata": {},
   "outputs": [
    {
     "name": "stdout",
     "output_type": "stream",
     "text": [
      "El resultado de la rotación es: \n",
      "\n",
      "[[ 1.  0.  0.]\n",
      " [ 0.  0. -1.]\n",
      " [ 0.  1.  0.]]\n"
     ]
    }
   ],
   "source": [
    "ejeRotacion = np.matrix(np.array([1, 0, 0]))\n",
    "grados = np.pi*90/180\n",
    "Rotada = rotK(ejeRotacion, grados)\n",
    "print(\"El resultado de la rotación es: \\n\")\n",
    "print(Rotada)"
   ]
  },
  {
   "cell_type": "markdown",
   "metadata": {},
   "source": [
    "Se observa que el x va a parar al x, el y al z y el z al -y (en términos del eje 0)"
   ]
  },
  {
   "cell_type": "markdown",
   "metadata": {},
   "source": [
    "## Si aplicamos los ángulos de euler. En particular zyz como antes, deberiamos obtener el mismo resultado y ponemos bien el signo de los ángulos con la regla de la mano derecha."
   ]
  },
  {
   "cell_type": "code",
   "execution_count": 5,
   "metadata": {},
   "outputs": [],
   "source": [
    "#Funciones de matrices de rotación sobre ejes\n",
    "\n",
    "def rotZ(angulo):\n",
    "    \n",
    "    aux = [[np.cos(angulo), -np.sin(angulo), 0], [np.sin(angulo), np.cos(angulo), 0], [0, 0, 1]]\n",
    "    matRotZ = np.matrix(aux)\n",
    "    np.set_printoptions(suppress=True) #Suprime la notación científica\n",
    "    return matRotZ\n",
    "    \n",
    "def rotY(angulo):\n",
    "    \n",
    "    aux = [[np.cos(angulo), 0, np.sin(angulo)], [0, 1, 0], [-np.sin(angulo), 0, np.cos(angulo)]]\n",
    "    matRotY = np.matrix(aux)\n",
    "    np.set_printoptions(suppress=True) #Suprime la notación científica\n",
    "    return matRotY\n",
    "\n",
    "def rotX(angulo):\n",
    "    \n",
    "    aux = [[1, 0, 0], [0, np.cos(angulo), -np.sin(angulo)], [ 0, np.sin(angulo), np.cos(angulo)]]\n",
    "    matRotX = np.matrix(aux)\n",
    "    np.set_printoptions(suppress=True) #Suprime la notación científica\n",
    "    return matRotX"
   ]
  },
  {
   "cell_type": "code",
   "execution_count": 6,
   "metadata": {},
   "outputs": [],
   "source": [
    "def dirEuler(angulo):\n",
    "    \n",
    "    R = rotZ(angulo[0]) * rotY(angulo[1]) * rotZ(angulo[2])\n",
    "    \n",
    "    return R"
   ]
  },
  {
   "cell_type": "code",
   "execution_count": 7,
   "metadata": {},
   "outputs": [],
   "source": [
    "def dirEuler2(angulo):\n",
    "    \n",
    "    R = rotZ(angulo[0]) * rotY(angulo[1]) * rotX(angulo[2])\n",
    "    \n",
    "    return R"
   ]
  },
  {
   "cell_type": "markdown",
   "metadata": {},
   "source": [
    "#### Probamos la rotación de Euler"
   ]
  },
  {
   "cell_type": "code",
   "execution_count": 8,
   "metadata": {},
   "outputs": [
    {
     "name": "stdout",
     "output_type": "stream",
     "text": [
      "[[ 1. -0. -0.]\n",
      " [-0.  0. -1.]\n",
      " [ 0.  1.  0.]]\n"
     ]
    }
   ],
   "source": [
    "angulos = [np.pi/2, -np.pi/2, -np.pi/2]\n",
    "\n",
    "RotacionEuler = dirEuler(angulos)\n",
    "\n",
    "print(RotacionEuler)"
   ]
  },
  {
   "cell_type": "markdown",
   "metadata": {},
   "source": [
    "#### Quedó chequeado que da lo mismo. Si invertimos de signo los valores de los ángulos entonces estariamos trabajando con la otra solución de los ángulos de Euler."
   ]
  },
  {
   "cell_type": "code",
   "execution_count": 9,
   "metadata": {},
   "outputs": [
    {
     "name": "stdout",
     "output_type": "stream",
     "text": [
      "[[ 0.70710678  0.          0.70710678]\n",
      " [ 0.          1.          0.        ]\n",
      " [-0.70710678  0.          0.70710678]]\n"
     ]
    }
   ],
   "source": [
    "#Ahora vamos a hacer el ejercicio 6\n",
    "angulos6 = [0, np.pi/4, 0]\n",
    "RotEj6 = dirEuler2(angulos6)\n",
    "print(RotEj6)"
   ]
  },
  {
   "cell_type": "code",
   "execution_count": null,
   "metadata": {},
   "outputs": [],
   "source": []
  }
 ],
 "metadata": {
  "kernelspec": {
   "display_name": "Python 3",
   "language": "python",
   "name": "python3"
  },
  "language_info": {
   "codemirror_mode": {
    "name": "ipython",
    "version": 3
   },
   "file_extension": ".py",
   "mimetype": "text/x-python",
   "name": "python",
   "nbconvert_exporter": "python",
   "pygments_lexer": "ipython3",
   "version": "3.8.2"
  }
 },
 "nbformat": 4,
 "nbformat_minor": 4
}
