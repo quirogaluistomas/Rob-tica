{
 "cells": [
  {
   "cell_type": "code",
   "execution_count": 2,
   "metadata": {},
   "outputs": [],
   "source": [
    "import numpy as np\n",
    "import scipy as sp"
   ]
  },
  {
   "cell_type": "code",
   "execution_count": 3,
   "metadata": {},
   "outputs": [],
   "source": [
    "def InvEuler(signo, R, phi_singular):\n",
    "    \n",
    "    theta = 0\n",
    "    phi = 0\n",
    "    psi = 0\n",
    "    np.set_printoptions(suppress=True) #Suprime la notación científica\n",
    "\n",
    "    \n",
    "    if signo == 1 :\n",
    "        theta = np.arccos(R.item((2,2)))\n",
    "    \n",
    "    elif signo == -1:\n",
    "        theta = -np.arccos(R.item((2,2)))\n",
    "        \n",
    "    else:\n",
    "        print(\"valor erroneo\")\n",
    "    \n",
    "    if(1-R[2,2] < 0.000000001):\n",
    "        phi = phi_singular\n",
    "        psi = np.arctan2(R.item((1,0)), R.item((0,0))) - phi_singular\n",
    "    else:\n",
    "        phi = np.arctan2(signo*R.item((1,2)), signo*R.item((0,2)))\n",
    "        psi = np.arctan2(signo*R.item((2,1)), -1*signo*R.item((2,0)))\n",
    "    \n",
    "    angulos = [phi, theta, psi]\n",
    "    \n",
    "    return(angulos)\n"
   ]
  },
  {
   "cell_type": "code",
   "execution_count": 10,
   "metadata": {},
   "outputs": [
    {
     "name": "stdout",
     "output_type": "stream",
     "text": [
      "[1.5707963267948966, 1.5707963267948966, -2.356194490192345]\n"
     ]
    }
   ],
   "source": [
    "#Probamos con distintas matrices, etc\n",
    "RotacionEuler = np.matrix([[1,1,0], [1,2,4], [1,-1,0]])\n",
    "InversaEuler = InvEuler(1, RotacionEuler, 0)\n",
    "InversaEulerScale = [i * 180/np.pi for i in InversaEuler]\n",
    "print(InversaEuler)"
   ]
  }
 ],
 "metadata": {
  "kernelspec": {
   "display_name": "Python 3",
   "language": "python",
   "name": "python3"
  },
  "language_info": {
   "codemirror_mode": {
    "name": "ipython",
    "version": 3
   },
   "file_extension": ".py",
   "mimetype": "text/x-python",
   "name": "python",
   "nbconvert_exporter": "python",
   "pygments_lexer": "ipython3",
   "version": "3.8.2"
  }
 },
 "nbformat": 4,
 "nbformat_minor": 4
}
