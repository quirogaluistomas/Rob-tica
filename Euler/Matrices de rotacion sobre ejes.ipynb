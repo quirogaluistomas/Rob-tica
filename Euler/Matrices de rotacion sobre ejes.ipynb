{
 "cells": [
  {
   "cell_type": "code",
   "execution_count": 1,
   "metadata": {},
   "outputs": [],
   "source": [
    "import numpy as np\n",
    "import scipy as sp"
   ]
  },
  {
   "cell_type": "markdown",
   "metadata": {},
   "source": [
    "Definimos función para rotar un cierto ángulo sobre el eje Z, luego sobre el eje Y y luego el X"
   ]
  },
  {
   "cell_type": "code",
   "execution_count": 2,
   "metadata": {},
   "outputs": [],
   "source": [
    "def rotZ(angulo):\n",
    "    \n",
    "    #angulo = np.pi/2\n",
    "    aux = [[np.cos(angulo), -np.sin(angulo), 0], [np.sin(angulo), np.cos(angulo), 0], [0, 0, 1]]\n",
    "    \n",
    "    matRotZ = np.matrix(aux)\n",
    "\n",
    "    np.set_printoptions(suppress=True) #Suprime la notación científica\n",
    "\n",
    "    #print(matRotZ)\n",
    "    \n",
    "    return matRotZ\n",
    "    \n",
    "def rotY(angulo):\n",
    "    \n",
    "    #angulo = np.pi/2\n",
    "    aux = [[np.cos(angulo), 0, np.sin(angulo)], [0, 1, 0], [-np.sin(angulo), 0, np.cos(angulo)]]\n",
    "    \n",
    "    matRotY = np.matrix(aux)\n",
    "\n",
    "    np.set_printoptions(suppress=True) #Suprime la notación científica\n",
    "\n",
    "    #print(matRotY)\n",
    "    \n",
    "    return matRotY\n",
    "\n",
    "def rotX(angulo):\n",
    "    \n",
    "    #angulo = np.pi/2\n",
    "    aux = [[1, 0, 0], [0, np.cos(angulo), -np.sin(angulo)], [ 0, np.sin(angulo), np.cos(angulo)]]\n",
    "    \n",
    "    matRotX = np.matrix(aux)\n",
    "\n",
    "    np.set_printoptions(suppress=True) #Suprime la notación científica\n",
    "\n",
    "    #print(matRotX)\n",
    "    \n",
    "    return matRotX"
   ]
  },
  {
   "cell_type": "markdown",
   "metadata": {},
   "source": [
    "Si probamos por ejemplo con pi/2 deberiamos ver que los ejes rotan en sentido antihorario 90 grados, o sea el eje \"y\" va a \"-x\" y \"x\" va a \"y\". Y asi con los demás ejes."
   ]
  },
  {
   "cell_type": "code",
   "execution_count": 3,
   "metadata": {
    "scrolled": true
   },
   "outputs": [
    {
     "name": "stdout",
     "output_type": "stream",
     "text": [
      "[[ 0. -1.  0.]\n",
      " [ 1.  0.  0.]\n",
      " [ 0.  0.  1.]]\n",
      "\n",
      "\n",
      "[[ 0.  0.  1.]\n",
      " [ 0.  1.  0.]\n",
      " [-1.  0.  0.]]\n",
      "\n",
      "\n",
      "[[ 1.  0.  0.]\n",
      " [ 0.  0. -1.]\n",
      " [ 0.  1.  0.]]\n"
     ]
    }
   ],
   "source": [
    "RZ = rotZ(np.pi/2) \n",
    "print(RZ)\n",
    "print(\"\\n\")\n",
    "RY = rotY(np.pi/2)\n",
    "print(RY)\n",
    "print(\"\\n\")\n",
    "RX = rotX(np.pi/2)\n",
    "print(RX)"
   ]
  },
  {
   "cell_type": "markdown",
   "metadata": {},
   "source": [
    "Podemos corroborar la propiedad de la inversa, de que la matriz de rotación es inversible"
   ]
  },
  {
   "cell_type": "code",
   "execution_count": 5,
   "metadata": {},
   "outputs": [
    {
     "name": "stdout",
     "output_type": "stream",
     "text": [
      "[[1. 0. 0.]\n",
      " [0. 1. 0.]\n",
      " [0. 0. 1.]]\n",
      "\n",
      "\n",
      "[[1. 0. 0.]\n",
      " [0. 1. 0.]\n",
      " [0. 0. 1.]]\n",
      "\n",
      "\n",
      "[[1. 0. 0.]\n",
      " [0. 1. 0.]\n",
      " [0. 0. 1.]]\n"
     ]
    }
   ],
   "source": [
    "InversaZ = np.linalg.inv(RZ)\n",
    "\n",
    "R_prod_Z = RZ*InversaZ\n",
    "print(R_prod_Z)\n",
    "print(\"\\n\")\n",
    "\n",
    "InversaY = np.linalg.inv(RY)\n",
    "\n",
    "R_prod_Y = RY*InversaY\n",
    "print(R_prod_Y)\n",
    "print(\"\\n\")\n",
    "\n",
    "InversaX = np.linalg.inv(RX)\n",
    "\n",
    "R_prod_X = RX*InversaX\n",
    "print(R_prod_X)"
   ]
  },
  {
   "cell_type": "code",
   "execution_count": null,
   "metadata": {},
   "outputs": [],
   "source": []
  }
 ],
 "metadata": {
  "kernelspec": {
   "display_name": "Python 3",
   "language": "python",
   "name": "python3"
  },
  "language_info": {
   "codemirror_mode": {
    "name": "ipython",
    "version": 3
   },
   "file_extension": ".py",
   "mimetype": "text/x-python",
   "name": "python",
   "nbconvert_exporter": "python",
   "pygments_lexer": "ipython3",
   "version": "3.8.2"
  }
 },
 "nbformat": 4,
 "nbformat_minor": 4
}
