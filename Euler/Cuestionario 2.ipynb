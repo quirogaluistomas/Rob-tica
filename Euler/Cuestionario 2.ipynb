{
 "cells": [
  {
   "cell_type": "code",
   "execution_count": 1,
   "metadata": {},
   "outputs": [],
   "source": [
    "import numpy as np\n",
    "import scipy as sp"
   ]
  },
  {
   "cell_type": "code",
   "execution_count": 2,
   "metadata": {},
   "outputs": [],
   "source": [
    "#La inversa debe recibir no sólo el ángulo sino también el signo del ángulo ya que debo especificar en qué cuadrante se \n",
    "#encuentra. Nos basamos nuevamente en lo explicado en las diapositivas, el ejemplo de R = rotZ*rotY*rotZ\n",
    "\n",
    "def InvEuler(signo, R):\n",
    "    \n",
    "    theta = 0\n",
    "    phi = 0\n",
    "    psi = 0\n",
    "    np.set_printoptions(suppress=True) #Suprime la notación científica\n",
    "\n",
    "    \n",
    "    if signo == 1 :\n",
    "        theta = np.arccos(R.item((2,2)))\n",
    "    \n",
    "    elif signo == -1:\n",
    "        theta = -np.arccos(R.item((2,2)))\n",
    "        \n",
    "    else:\n",
    "        print(\"valor erroneo\")\n",
    "    \n",
    "    phi = np.arctan2(signo*R.item((1,2)), signo*R.item((0,2)))\n",
    "    psi = np.arctan2(signo*R.item((2,1)), -1*signo*R.item((2,0)))\n",
    "    \n",
    "    angulos = [phi, theta, psi]\n",
    "    \n",
    "    return(angulos)"
   ]
  },
  {
   "cell_type": "code",
   "execution_count": 10,
   "metadata": {},
   "outputs": [],
   "source": [
    "#1 y 2 son iguales a 4 y 5 del cuestionario 1"
   ]
  },
  {
   "cell_type": "code",
   "execution_count": 8,
   "metadata": {},
   "outputs": [
    {
     "name": "stdout",
     "output_type": "stream",
     "text": [
      "Los ángulos en orden son [phi, theta y psi]:\n",
      "\n",
      "  [-9.999900776346369, -14.999961544886698, 19.999958254647222]\n"
     ]
    }
   ],
   "source": [
    "#3 parecido al 1 del cuestionario anterior pero con la matriz modificada\n",
    "\n",
    "#Sea la matrix R1 calcular el ángulo phi tal que theta resulte negativo\n",
    "\n",
    "R3 = np.matrix([[0.834493 , -0.488523, -0.254887], [0.49440, 0.868049, 0.044943], [0.243210, -0.088521, 0.965926]])\n",
    "\n",
    "InversaEuler = InvEuler(-1, R3) #Acá le mando signo negativo y me fijo si theta me da positivo o negativo\n",
    "InversaEulerScale = [i * 180/np.pi for i in InversaEuler]\n",
    "\n",
    "print(\"Los ángulos en orden son [phi, theta y psi]:\\n\\n \",InversaEulerScale)\n"
   ]
  },
  {
   "cell_type": "code",
   "execution_count": 9,
   "metadata": {},
   "outputs": [],
   "source": [
    "#4 es el mismo que el 3 del cuestionario 1"
   ]
  },
  {
   "cell_type": "code",
   "execution_count": null,
   "metadata": {},
   "outputs": [],
   "source": []
  }
 ],
 "metadata": {
  "kernelspec": {
   "display_name": "Python 3",
   "language": "python",
   "name": "python3"
  },
  "language_info": {
   "codemirror_mode": {
    "name": "ipython",
    "version": 3
   },
   "file_extension": ".py",
   "mimetype": "text/x-python",
   "name": "python",
   "nbconvert_exporter": "python",
   "pygments_lexer": "ipython3",
   "version": "3.8.2"
  }
 },
 "nbformat": 4,
 "nbformat_minor": 4
}
