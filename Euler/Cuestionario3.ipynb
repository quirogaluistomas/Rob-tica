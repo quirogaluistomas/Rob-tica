{
 "cells": [
  {
   "cell_type": "code",
   "execution_count": 2,
   "metadata": {},
   "outputs": [],
   "source": [
    "import numpy as np\n",
    "import scipy as sp"
   ]
  },
  {
   "cell_type": "code",
   "execution_count": 24,
   "metadata": {},
   "outputs": [],
   "source": [
    "#Definimos la funcion de rotación sobre un eje cualquiera, que recibe como parámetros el versor eje k y el angulo a rotar\n",
    "#Para esto vemos en las diapo la formula de Rodrigues en forma compacta\n",
    "\n",
    "def rotK(ejek, angulo):\n",
    "    \n",
    "    ejek = ejek/np.linalg.norm(ejek)\n",
    "    ejek = np.transpose(ejek)\n",
    "    termino1 = np.cos(angulo)*np.eye(3)\n",
    "    #print(termino1)\n",
    "    termino2 = (1-np.cos(angulo))*(ejek*np.transpose(ejek))\n",
    "    #print(\"\\n\")\n",
    "    #print(termino2)\n",
    "    #print(\"\\n\")\n",
    "    #print(ejek*np.transpose(ejek))\n",
    "    termino3 = np.sin(angulo)*antisim(ejek)\n",
    "    #print(\"\\n\")\n",
    "    #print(termino3)\n",
    "    #print(\"\\n\")\n",
    "    RotacionEjeK = termino1 + termino2 + termino3\n",
    "    \n",
    "    return(RotacionEjeK)\n"
   ]
  },
  {
   "cell_type": "code",
   "execution_count": 4,
   "metadata": {},
   "outputs": [],
   "source": [
    "def antisim(ejeK):\n",
    "    \n",
    "    aux = [[0, -ejeK.item((2,0)), ejeK.item((1,0))], [ejeK.item((2,0)), 0, -ejeK.item((0,0))], [-ejeK.item((1,0)), ejeK.item((0,0)), 0]]\n",
    "    matrizSkew = np.matrix(aux)\n",
    "    #print(matrizSkew)\n",
    "    return(matrizSkew)"
   ]
  },
  {
   "cell_type": "code",
   "execution_count": null,
   "metadata": {},
   "outputs": [],
   "source": []
  },
  {
   "cell_type": "code",
   "execution_count": 27,
   "metadata": {},
   "outputs": [
    {
     "name": "stdout",
     "output_type": "stream",
     "text": [
      "[[ 0.9781476  -0.14701577  0.14701577  3.        ]\n",
      " [ 0.14701577  0.9890738   0.0109262   4.        ]\n",
      " [-0.14701577  0.0109262   0.9890738   5.        ]\n",
      " [ 0.          0.          0.          1.        ]]\n",
      "\n",
      "\n",
      "[[ 0.96984631 -0.03015369  0.24184476  0.        ]\n",
      " [-0.03015369  0.96984631  0.24184476 -2.        ]\n",
      " [-0.24184476 -0.24184476  0.93969262 -1.        ]\n",
      " [ 0.          0.          0.          1.        ]]\n"
     ]
    }
   ],
   "source": [
    "#1 Tenemos que ir creando las ternas\n",
    "\n",
    "ejeRotacion = np.matrix(np.array([0, 1, 1]))\n",
    "grados = np.pi*12/180\n",
    "R12 = rotK(ejeRotacion, grados)\n",
    "#print(R12)\n",
    "\n",
    "ejeRotacion = np.matrix(np.array([1, -1, 0]))\n",
    "grados = -np.pi*20/180\n",
    "R23 = rotK(ejeRotacion, grados)\n",
    "\n",
    "\n",
    "a = np.transpose(np.matrix([3, 4, 5]))\n",
    "b = np.matrix([0, 0, 0, 1])\n",
    "MatrizRT_12 = np.concatenate((R12,a), axis = 1)\n",
    "MatrizRT_12 = np.concatenate((MatrizRT_12,b), axis = 0)\n",
    "print(MatrizRT_12)\n",
    "print(\"\\n\")\n",
    "\n",
    "c = np.transpose(np.matrix([0, -2, -1]))\n",
    "d = np.matrix([0, 0, 0, 1])\n",
    "MatrizRT_23 = np.concatenate((R23,c), axis = 1)\n",
    "MatrizRT_23 = np.concatenate((MatrizRT_23,d), axis = 0)\n",
    "print(MatrizRT_23)"
   ]
  },
  {
   "cell_type": "code",
   "execution_count": 69,
   "metadata": {},
   "outputs": [
    {
     "name": "stdout",
     "output_type": "stream",
     "text": [
      "[[ 0.91753092 -0.20763245  0.33915451  3.14701577]\n",
      " [ 0.11011603  0.95217406  0.28502458  2.0109262 ]\n",
      " [-0.38211448 -0.22417252  0.8965128   3.9890738 ]\n",
      " [ 0.          0.          0.          1.        ]]\n",
      "\n",
      "\n",
      "[[ 0.91753092 -0.20763245  0.33915451]\n",
      " [ 0.11011603  0.95217406  0.28502458]\n",
      " [-0.38211448 -0.22417252  0.8965128 ]]\n",
      "\n",
      "\n",
      "[[1.5846366 ]\n",
      " [0.36708846]\n",
      " [5.21674373]]\n"
     ]
    }
   ],
   "source": [
    "A_13 = MatrizRT_12.dot(MatrizRT_23)\n",
    "print(A_13)\n",
    "print(\"\\n\")\n",
    "\n",
    "p_13 = A_13.dot(np.transpose(np.matrix([0,0,0,1])))\n",
    "#print(p_13)\n",
    "\n",
    "p13 = np.array(p_13[0:3,0])\n",
    "\n",
    "A13 = A_13[0:3, 0:3]\n",
    "print(A13)\n",
    "print(\"\\n\")\n",
    "\n",
    "A31 = np.linalg.inv(A13)\n",
    "\n",
    "#Me quedo con la primer componente x3 del vector p31 ---> 1.584636\n",
    "p31 = A31.dot(p13)\n",
    "print(p31)"
   ]
  },
  {
   "cell_type": "code",
   "execution_count": 72,
   "metadata": {},
   "outputs": [
    {
     "name": "stdout",
     "output_type": "stream",
     "text": [
      "[[3.14701577]\n",
      " [2.0109262 ]\n",
      " [3.9890738 ]\n",
      " [1.        ]]\n"
     ]
    }
   ],
   "source": [
    "#2 Es lo mismo pero en la dirección de X1\n",
    "\n",
    "p_13 = A_13.dot(np.transpose(np.matrix([0,0,0,1])))\n",
    "print(p_13) #Me quedo con la primer componente x3 del vector p31 ---> 1.584636"
   ]
  },
  {
   "cell_type": "code",
   "execution_count": 73,
   "metadata": {},
   "outputs": [],
   "source": [
    "#El resto son iguales"
   ]
  }
 ],
 "metadata": {
  "kernelspec": {
   "display_name": "Python 3",
   "language": "python",
   "name": "python3"
  },
  "language_info": {
   "codemirror_mode": {
    "name": "ipython",
    "version": 3
   },
   "file_extension": ".py",
   "mimetype": "text/x-python",
   "name": "python",
   "nbconvert_exporter": "python",
   "pygments_lexer": "ipython3",
   "version": "3.8.2"
  }
 },
 "nbformat": 4,
 "nbformat_minor": 4
}
