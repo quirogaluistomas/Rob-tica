{
 "cells": [
  {
   "cell_type": "code",
   "execution_count": 2,
   "metadata": {},
   "outputs": [],
   "source": [
    "import numpy as np\n",
    "import scipy as sp"
   ]
  },
  {
   "cell_type": "markdown",
   "metadata": {},
   "source": [
    "Vemos la aplicación del problema directo e inverso de Euler de las diapositivas."
   ]
  },
  {
   "cell_type": "code",
   "execution_count": 3,
   "metadata": {},
   "outputs": [],
   "source": [
    "def dirEuler(angulo):\n",
    "    \n",
    "    R = rotZ(angulo[0]) * rotY(angulo[1]) * rotZ(angulo[2])\n",
    "    \n",
    "    return R"
   ]
  },
  {
   "cell_type": "code",
   "execution_count": 4,
   "metadata": {},
   "outputs": [],
   "source": [
    "#La inversa debe recibir no sólo el ángulo sino también el signo del ángulo ya que debo especificar en qué cuadrante se \n",
    "#encuentra. Nos basamos nuevamente en lo explicado en las diapositivas, el ejemplo de R = rotZ*rotY*rotZ\n",
    "\n",
    "def InvEuler(signo, R):\n",
    "    \n",
    "    theta = 0\n",
    "    phi = 0\n",
    "    psi = 0\n",
    "    np.set_printoptions(suppress=True) #Suprime la notación científica\n",
    "\n",
    "    \n",
    "    if signo == 1 :\n",
    "        theta = np.arccos(R.item((2,2)))\n",
    "    \n",
    "    elif signo == -1:\n",
    "        theta = -np.arccos(R.item((2,2)))\n",
    "        \n",
    "    else:\n",
    "        print(\"valor erroneo\")\n",
    "    \n",
    "    phi = np.arctan2(signo*R.item((1,2)), signo*R.item((0,2)))\n",
    "    psi = np.arctan2(signo*R.item((2,1)), -1*signo*R.item((2,0)))\n",
    "    \n",
    "    angulos = [phi, theta, psi]\n",
    "    \n",
    "    return(angulos)\n"
   ]
  },
  {
   "cell_type": "code",
   "execution_count": 5,
   "metadata": {},
   "outputs": [],
   "source": [
    "#Definimos la funcion de rotación sobre un eje cualquiera, que recibe como parámetros el versor eje k y el angulo a rotar\n",
    "#Para esto vemos en las diapo la formula de Rodrigues en forma compacta\n",
    "\n",
    "def rotK(ejek, angulo):\n",
    "    \n",
    "    ejek = ejek/np.linalg.norm(ejek)\n",
    "    ejek = np.transpose(ejek)\n",
    "    termino1 = np.cos(angulo)*np.eye(3)\n",
    "    print(termino1)\n",
    "    termino2 = (1-np.cos(angulo))*(ejek*np.transpose(ejek))\n",
    "    print(\"\\n\")\n",
    "    print(termino2)\n",
    "    print(\"\\n\")\n",
    "    #print(ejek*np.transpose(ejek))\n",
    "    termino3 = np.sin(angulo)*antisim(ejek)\n",
    "    print(\"\\n\")\n",
    "    print(termino3)\n",
    "    print(\"\\n\")\n",
    "    RotacionEjeK = termino1 + termino2 + termino3\n",
    "    \n",
    "    return(RotacionEjeK)\n"
   ]
  },
  {
   "cell_type": "code",
   "execution_count": 6,
   "metadata": {},
   "outputs": [],
   "source": [
    "def antisim(ejeK):\n",
    "    \n",
    "    aux = [[0, -ejeK.item((2,0)), ejeK.item((1,0))], [ejeK.item((2,0)), 0, -ejeK.item((0,0))], [-ejeK.item((1,0)), ejeK.item((0,0)), 0]]\n",
    "    matrizSkew = np.matrix(aux)\n",
    "    #print(matrizSkew)\n",
    "    return(matrizSkew)"
   ]
  },
  {
   "cell_type": "code",
   "execution_count": 7,
   "metadata": {},
   "outputs": [],
   "source": [
    "#Funciones de matrices de rotación sobre ejes\n",
    "\n",
    "def rotZ(angulo):\n",
    "    \n",
    "    #angulo = np.pi/2\n",
    "    aux = [[np.cos(angulo), -np.sin(angulo), 0], [np.sin(angulo), np.cos(angulo), 0], [0, 0, 1]]\n",
    "    \n",
    "    matRotZ = np.matrix(aux)\n",
    "\n",
    "    np.set_printoptions(suppress=True) #Suprime la notación científica\n",
    "\n",
    "    #print(matRotZ)\n",
    "    \n",
    "    return matRotZ\n",
    "    \n",
    "def rotY(angulo):\n",
    "    \n",
    "    #angulo = np.pi/2\n",
    "    aux = [[np.cos(angulo), 0, np.sin(angulo)], [0, 1, 0], [-np.sin(angulo), 0, np.cos(angulo)]]\n",
    "    \n",
    "    matRotY = np.matrix(aux)\n",
    "\n",
    "    np.set_printoptions(suppress=True) #Suprime la notación científica\n",
    "\n",
    "    #print(matRotY)\n",
    "    \n",
    "    return matRotY\n",
    "\n",
    "def rotX(angulo):\n",
    "    \n",
    "    #angulo = np.pi/2\n",
    "    aux = [[1, 0, 0], [0, np.cos(angulo), -np.sin(angulo)], [ 0, np.sin(angulo), np.cos(angulo)]]\n",
    "    \n",
    "    matRotX = np.matrix(aux)\n",
    "\n",
    "    np.set_printoptions(suppress=True) #Suprime la notación científica\n",
    "\n",
    "    #print(matRotX)\n",
    "    \n",
    "    return matRotX"
   ]
  },
  {
   "cell_type": "code",
   "execution_count": 8,
   "metadata": {},
   "outputs": [
    {
     "name": "stdout",
     "output_type": "stream",
     "text": [
      "[[ 0. -1.  0.]\n",
      " [ 1.  0.  0.]\n",
      " [ 0.  0.  1.]]\n",
      "\n",
      "\n",
      "[[ 0.  0.  1.]\n",
      " [ 0.  1.  0.]\n",
      " [-1.  0.  0.]]\n",
      "\n",
      "\n",
      "[[ 1.  0.  0.]\n",
      " [ 0.  0. -1.]\n",
      " [ 0.  1.  0.]]\n"
     ]
    }
   ],
   "source": [
    "RZ = rotZ(np.pi/2) \n",
    "print(RZ)\n",
    "print(\"\\n\")\n",
    "RY = rotY(np.pi/2)\n",
    "print(RY)\n",
    "print(\"\\n\")\n",
    "RX = rotX(np.pi/2)\n",
    "print(RX)"
   ]
  },
  {
   "cell_type": "markdown",
   "metadata": {},
   "source": [
    "Corroboramos la propiedad de identidad."
   ]
  },
  {
   "cell_type": "code",
   "execution_count": 9,
   "metadata": {},
   "outputs": [
    {
     "name": "stdout",
     "output_type": "stream",
     "text": [
      "[[1. 0. 0.]\n",
      " [0. 1. 0.]\n",
      " [0. 0. 1.]]\n",
      "\n",
      "\n",
      "[[1. 0. 0.]\n",
      " [0. 1. 0.]\n",
      " [0. 0. 1.]]\n",
      "\n",
      "\n",
      "[[1. 0. 0.]\n",
      " [0. 1. 0.]\n",
      " [0. 0. 1.]]\n"
     ]
    }
   ],
   "source": [
    "InversaZ = np.linalg.inv(RZ)\n",
    "\n",
    "R_prod_Z = RZ*InversaZ\n",
    "print(R_prod_Z)\n",
    "print(\"\\n\")\n",
    "\n",
    "InversaY = np.linalg.inv(RY)\n",
    "\n",
    "R_prod_Y = RY*InversaY\n",
    "print(R_prod_Y)\n",
    "print(\"\\n\")\n",
    "\n",
    "InversaX = np.linalg.inv(RX)\n",
    "\n",
    "R_prod_X = RX*InversaX\n",
    "print(R_prod_X)"
   ]
  },
  {
   "cell_type": "markdown",
   "metadata": {},
   "source": [
    "### Enviamos un vector de ángulos al problema directo de euler donde se rota en diferentes ejes y diferentes ángulos"
   ]
  },
  {
   "cell_type": "code",
   "execution_count": 10,
   "metadata": {},
   "outputs": [
    {
     "name": "stdout",
     "output_type": "stream",
     "text": [
      "[[ 0. -1.  0.]\n",
      " [ 0.  0.  1.]\n",
      " [-1.  0.  0.]]\n"
     ]
    }
   ],
   "source": [
    "angulo = [np.pi/2, np.pi/2, 0]\n",
    "\n",
    "RotacionEuler = dirEuler(angulo)\n",
    "\n",
    "print(RotacionEuler)"
   ]
  },
  {
   "cell_type": "markdown",
   "metadata": {},
   "source": [
    "Ahora calculamos la inversa de euler que nos debería dar exactamente lo que rotamos cada eje, es decir 90, 90 y 0"
   ]
  },
  {
   "cell_type": "code",
   "execution_count": 11,
   "metadata": {},
   "outputs": [
    {
     "name": "stdout",
     "output_type": "stream",
     "text": [
      "[1.5707963267948966, 1.5707963267948966, 0.0]\n"
     ]
    }
   ],
   "source": [
    "InversaEuler = InvEuler(1, RotacionEuler)\n",
    "InversaEulerScale = [i * 180/np.pi for i in InversaEuler]\n",
    "#print(InversaEulerScale)\n",
    "print(InversaEuler)\n",
    "\n",
    "#Si pasamos la inversa a la directa deberíamos obtener la original nuevamente. Chequeo\n",
    "#R2 = dirEuler(InversaEuler)\n",
    "#print(R2)"
   ]
  },
  {
   "cell_type": "markdown",
   "metadata": {},
   "source": [
    "Vemos la rotación sobre un eje cualquiera"
   ]
  },
  {
   "cell_type": "code",
   "execution_count": 35,
   "metadata": {},
   "outputs": [
    {
     "name": "stdout",
     "output_type": "stream",
     "text": [
      "[[0. 0. 0.]\n",
      " [0. 0. 0.]\n",
      " [0. 0. 0.]]\n",
      "\n",
      "\n",
      "[[1. 0. 0.]\n",
      " [0. 0. 0.]\n",
      " [0. 0. 0.]]\n",
      "\n",
      "\n",
      "\n",
      "\n",
      "[[ 0. -0.  0.]\n",
      " [ 0.  0. -1.]\n",
      " [-0.  1.  0.]]\n",
      "\n",
      "\n",
      "[[0. 0. 0.]\n",
      " [0. 0. 0.]\n",
      " [0. 0. 0.]]\n",
      "\n",
      "\n",
      "[[0. 0. 0.]\n",
      " [0. 1. 0.]\n",
      " [0. 0. 0.]]\n",
      "\n",
      "\n",
      "\n",
      "\n",
      "[[ 0. -0.  1.]\n",
      " [ 0.  0. -0.]\n",
      " [-1.  0.  0.]]\n",
      "\n",
      "\n",
      "[[ 0.  0.  1.]\n",
      " [ 1.  0. -0.]\n",
      " [-0.  1.  0.]]\n"
     ]
    }
   ],
   "source": [
    "ejeRotacion = np.matrix(np.array([1, 0, 0]))\n",
    "grados = np.pi*90/180\n",
    "Rotada = rotK(ejeRotacion, grados)\n",
    "Rotada2 = rotK(np.matrix(np.array([0, 1, 0])), np.pi*90/180)\n",
    "print(Rotada.dot(Rotada2))\n",
    "\n",
    "#Es fantastico!! No hace falta conocer las coordenadas de Rotada2 expresadas en la terna de Rotada, sólo le pasás la rotación y \n",
    "#la dirección sobre la cual querés rotar de la terna original y haciendo el producto obtenemos lo mismo que si hicieramos el \n",
    "#producto de la matriz de rotación que va de la 0 a la 1 y de la que va de la 1 a la 2 (conociendo sus coordenadas\n",
    "#explícitamente como en el ejercicio 4 de la tira0 de la guia)"
   ]
  },
  {
   "cell_type": "code",
   "execution_count": 29,
   "metadata": {},
   "outputs": [
    {
     "name": "stdout",
     "output_type": "stream",
     "text": [
      "[[0.70710678 0.         0.        ]\n",
      " [0.         0.70710678 0.        ]\n",
      " [0.         0.         0.70710678]]\n",
      "\n",
      "\n",
      "[[0.29289322 0.         0.        ]\n",
      " [0.         0.         0.        ]\n",
      " [0.         0.         0.        ]]\n",
      "\n",
      "\n",
      "\n",
      "\n",
      "[[ 0.         -0.          0.        ]\n",
      " [ 0.          0.         -0.70710678]\n",
      " [-0.          0.70710678  0.        ]]\n",
      "\n",
      "\n",
      "[[ 1.          0.          0.        ]\n",
      " [ 0.          0.70710678 -0.70710678]\n",
      " [ 0.          0.70710678  0.70710678]]\n"
     ]
    }
   ],
   "source": [
    "ejeRotacion = np.matrix(np.array([1, 0, 0]))\n",
    "grados = np.pi*45/180\n",
    "Rotada = rotK(ejeRotacion, grados)\n",
    "print(Rotada)"
   ]
  },
  {
   "cell_type": "markdown",
   "metadata": {},
   "source": [
    "Ahora haremos la descomposición en dvs para poder obtener los avas y aves de la matriz. De esta manera\n",
    "hallamos el \"vector de rotación\""
   ]
  },
  {
   "cell_type": "code",
   "execution_count": 30,
   "metadata": {},
   "outputs": [
    {
     "name": "stdout",
     "output_type": "stream",
     "text": [
      "El vector de autovalores es:\n",
      "\n",
      " [[0.70710678+0.70710678j]\n",
      " [0.70710678-0.70710678j]\n",
      " [1.        +0.j        ]]\n",
      "\n",
      "\n",
      "La matriz de autovalores es:\n",
      "\n",
      " [[0.70710678+0.70710678j 0.        +0.j         0.        +0.j        ]\n",
      " [0.        +0.j         0.70710678-0.70710678j 0.        +0.j        ]\n",
      " [0.        +0.j         0.        +0.j         1.        +0.j        ]]\n",
      "\n",
      "\n",
      "La matriz de autovectores es:\n",
      "\n",
      " [[0.        +0.j         0.        -0.j         1.        +0.j        ]\n",
      " [0.70710678+0.j         0.70710678-0.j         0.        +0.j        ]\n",
      " [0.        -0.70710678j 0.        +0.70710678j 0.        +0.j        ]]\n"
     ]
    }
   ],
   "source": [
    "Avas, Aves = np.linalg.eig(Rotada)\n",
    "\n",
    "DiagAvas = np.diagflat(Avas)\n",
    "print(\"El vector de autovalores es:\\n\\n\", np.transpose(np.matrix(Avas)))\n",
    "print(\"\\n\")\n",
    "#print(type(Avas))\n",
    "print(\"La matriz de autovalores es:\\n\\n\", DiagAvas)\n",
    "print(\"\\n\")\n",
    "print(\"La matriz de autovectores es:\\n\\n\",Aves)\n",
    "#print(np.size(Aves))"
   ]
  },
  {
   "cell_type": "markdown",
   "metadata": {},
   "source": [
    "Observar que el primer vector columna de aves me da la dirección de rotación! Pero no el vector! O sea, me dice el eje de rotación pero no me dice hacia donde, fijate que da negativo, no me da el mismo vector que envié [1, 1, 0].\n",
    "Si quisiera obtener el ángulo de giro podría aplicar el problema inverso de los cuaterniones."
   ]
  },
  {
   "cell_type": "markdown",
   "metadata": {},
   "source": [
    "## Ahora vamos con matriz de roto-traslación"
   ]
  },
  {
   "cell_type": "code",
   "execution_count": 31,
   "metadata": {},
   "outputs": [
    {
     "name": "stdout",
     "output_type": "stream",
     "text": [
      "[[ 1.  0.  0.  1.]\n",
      " [ 0.  1.  0. -1.]\n",
      " [ 0.  0.  1.  0.]\n",
      " [ 0.  0.  0.  1.]]\n",
      "[[ 1.          0.          0.          0.        ]\n",
      " [ 0.          0.70710678 -0.70710678  0.        ]\n",
      " [ 0.          0.70710678  0.70710678  0.        ]\n",
      " [ 0.          0.          0.          1.        ]]\n"
     ]
    }
   ],
   "source": [
    "#Utilizamos la misma matriz de rotación que antes pero ahora le agregamos un desplazamiento de 1 en x, -1 en y y 0 en z.\n",
    "#El 0 0 0 1 es de relleno para que quede cuadrada no singular, li.\n",
    "\n",
    "a = np.transpose(np.matrix([1, -1, 0]))\n",
    "b = np.matrix([0, 0, 0, 1])\n",
    "MatrizRT = np.concatenate((Rotada,a), axis = 1)\n",
    "MatrizRT = np.concatenate((MatrizRT,b), axis = 0)\n",
    "#print(MatrizRT)\n",
    "#print(\"\\n\")\n",
    "\n",
    "#Separamos en rotación y traslación pura\n",
    "Identidad = np.eye(3)\n",
    "TraslacionPura = np.concatenate((Identidad,a), axis = 1)\n",
    "TraslacionPura = np.concatenate((TraslacionPura,b), axis = 0)\n",
    "print(TraslacionPura)\n",
    "\n",
    "c = np.zeros((3,1))\n",
    "RotacionPura = np.concatenate((Rotada,c), axis = 1)\n",
    "RotacionPura = np.concatenate((RotacionPura,b), axis = 0)\n",
    "\n",
    "print(RotacionPura)\n"
   ]
  },
  {
   "cell_type": "markdown",
   "metadata": {},
   "source": [
    "Chequeamos ahora que si aplicamos la matriz de traslación pura y luego rotación pura obtenemos la misma que la de rototraslación."
   ]
  },
  {
   "cell_type": "code",
   "execution_count": 32,
   "metadata": {},
   "outputs": [
    {
     "name": "stdout",
     "output_type": "stream",
     "text": [
      "[[ 1.          0.          0.          1.        ]\n",
      " [ 0.          0.70710678 -0.70710678 -1.        ]\n",
      " [ 0.          0.70710678  0.70710678  0.        ]\n",
      " [ 0.          0.          0.          1.        ]]\n"
     ]
    }
   ],
   "source": [
    "RotoTras = TraslacionPura.dot(RotacionPura)\n",
    "print(RotoTras)"
   ]
  },
  {
   "cell_type": "markdown",
   "metadata": {},
   "source": [
    "Si hacemos al revés vemos que no son conmutativas, lo cual es lógico ya que rotaría y luego trasladaría en el sentido de los\n",
    "nuevos ejes"
   ]
  },
  {
   "cell_type": "code",
   "execution_count": null,
   "metadata": {},
   "outputs": [],
   "source": []
  }
 ],
 "metadata": {
  "kernelspec": {
   "display_name": "Python 3",
   "language": "python",
   "name": "python3"
  },
  "language_info": {
   "codemirror_mode": {
    "name": "ipython",
    "version": 3
   },
   "file_extension": ".py",
   "mimetype": "text/x-python",
   "name": "python",
   "nbconvert_exporter": "python",
   "pygments_lexer": "ipython3",
   "version": "3.8.2"
  }
 },
 "nbformat": 4,
 "nbformat_minor": 4
}
