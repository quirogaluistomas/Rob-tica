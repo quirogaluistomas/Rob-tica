{
 "cells": [
  {
   "cell_type": "code",
   "execution_count": 1,
   "metadata": {},
   "outputs": [],
   "source": [
    "import numpy as np\n",
    "import scipy as sp"
   ]
  },
  {
   "cell_type": "code",
   "execution_count": 2,
   "metadata": {},
   "outputs": [],
   "source": [
    "def rotK(ejek, angulo):\n",
    "    \n",
    "    ejek = ejek/np.linalg.norm(ejek)\n",
    "    ejek = np.transpose(ejek)\n",
    "    termino1 = np.cos(angulo)*np.eye(3)\n",
    "\n",
    "    termino2 = (1-np.cos(angulo))*(ejek*np.transpose(ejek))\n",
    "\n",
    "    termino3 = np.sin(angulo)*antisim(ejek)\n",
    "\n",
    "    RotacionEjeK = termino1 + termino2 + termino3\n",
    "    \n",
    "    return(RotacionEjeK)"
   ]
  },
  {
   "cell_type": "code",
   "execution_count": 3,
   "metadata": {},
   "outputs": [],
   "source": [
    "def antisim(ejeK):\n",
    "    \n",
    "    aux = [[0, -ejeK.item((2,0)), ejeK.item((1,0))], [ejeK.item((2,0)), 0, -ejeK.item((0,0))], [-ejeK.item((1,0)), ejeK.item((0,0)), 0]]\n",
    "    matrizSkew = np.matrix(aux)\n",
    "    #print(matrizSkew)\n",
    "    return(matrizSkew)"
   ]
  },
  {
   "cell_type": "code",
   "execution_count": 4,
   "metadata": {},
   "outputs": [],
   "source": [
    "#Funciones de matrices de rotación sobre ejes\n",
    "\n",
    "def rotZ(angulo):\n",
    "    \n",
    "    aux = [[np.cos(angulo), -np.sin(angulo), 0], [np.sin(angulo), np.cos(angulo), 0], [0, 0, 1]]\n",
    "    matRotZ = np.matrix(aux)\n",
    "    np.set_printoptions(suppress=True) #Suprime la notación científica\n",
    "    return matRotZ\n",
    "    \n",
    "def rotY(angulo):\n",
    "    \n",
    "    aux = [[np.cos(angulo), 0, np.sin(angulo)], [0, 1, 0], [-np.sin(angulo), 0, np.cos(angulo)]]\n",
    "    matRotY = np.matrix(aux)\n",
    "    np.set_printoptions(suppress=True) #Suprime la notación científica\n",
    "    return matRotY\n",
    "\n",
    "def rotX(angulo):\n",
    "    \n",
    "    aux = [[1, 0, 0], [0, np.cos(angulo), -np.sin(angulo)], [ 0, np.sin(angulo), np.cos(angulo)]]\n",
    "    matRotX = np.matrix(aux)\n",
    "    np.set_printoptions(suppress=True) #Suprime la notación científica\n",
    "    return matRotX"
   ]
  },
  {
   "cell_type": "code",
   "execution_count": 5,
   "metadata": {},
   "outputs": [],
   "source": [
    "#La inversa debe recibir no sólo el ángulo sino también el signo del ángulo ya que debo especificar en qué cuadrante se \n",
    "#encuentra. Nos basamos nuevamente en lo explicado en las diapositivas, el ejemplo de R = rotZ*rotY*rotZ\n",
    "\n",
    "def InvEuler(signo, R):\n",
    "    \n",
    "    theta = 0\n",
    "    phi = 0\n",
    "    psi = 0\n",
    "    np.set_printoptions(suppress=True) #Suprime la notación científica\n",
    "\n",
    "    \n",
    "    if signo == 1 :\n",
    "        theta = np.arccos(R.item((2,2)))\n",
    "    \n",
    "    elif signo == -1:\n",
    "        theta = -np.arccos(R.item((2,2)))\n",
    "        \n",
    "    else:\n",
    "        print(\"valor erroneo\")\n",
    "    \n",
    "    phi = np.arctan2(signo*R.item((1,2)), signo*R.item((0,2)))\n",
    "    psi = np.arctan2(signo*R.item((2,1)), -1*signo*R.item((2,0)))\n",
    "    \n",
    "    angulos = [phi, theta, psi]\n",
    "    \n",
    "    return(angulos)"
   ]
  },
  {
   "cell_type": "code",
   "execution_count": 82,
   "metadata": {},
   "outputs": [],
   "source": []
  },
  {
   "cell_type": "code",
   "execution_count": 6,
   "metadata": {},
   "outputs": [],
   "source": [
    "def dirEuler(angulo):\n",
    "    \n",
    "    R = rotZ(angulo[0]) * rotY(angulo[1]) * rotZ(angulo[2])\n",
    "    \n",
    "    return R"
   ]
  },
  {
   "cell_type": "code",
   "execution_count": 7,
   "metadata": {},
   "outputs": [],
   "source": [
    "def dirEuler2(angulo):\n",
    "    \n",
    "    R = rotZ(angulo[0]) * rotY(angulo[1]) * rotX(angulo[2])\n",
    "    \n",
    "    return R"
   ]
  },
  {
   "cell_type": "code",
   "execution_count": null,
   "metadata": {},
   "outputs": [],
   "source": []
  },
  {
   "cell_type": "code",
   "execution_count": 13,
   "metadata": {},
   "outputs": [
    {
     "name": "stdout",
     "output_type": "stream",
     "text": [
      "Los ángulos en orden son [phi, theta y psi]:\n",
      "\n",
      "  [0.0, 9.999258571882981, 14.999006234206702]\n"
     ]
    }
   ],
   "source": [
    "#Ahora si nos ponemos a resolver modificando lo que tenemos arriba\n",
    "\n",
    "#1 - Sea la matrix R1 calcular el ángulo phi tal que theta resulte positivo\n",
    "\n",
    "R1 = np.matrix([[0.95125 , -0.25489, 0.17365], [0.25882, 0.96593, 0.0000], [-0.16773, 0.04494, 0.98481]])\n",
    "\n",
    "InversaEuler = InvEuler(1, R1) #Acá le mando signo positivo y me fijo si theta me da positivo o negativo\n",
    "InversaEulerScale = [i * 180/np.pi for i in InversaEuler]\n",
    "\n",
    "print(\"Los ángulos en orden son [phi, theta y psi]:\\n\\n \",InversaEulerScale)\n"
   ]
  },
  {
   "cell_type": "code",
   "execution_count": 14,
   "metadata": {},
   "outputs": [
    {
     "name": "stdout",
     "output_type": "stream",
     "text": [
      "[[ 0.70710678  0.          0.70710678  0.        ]\n",
      " [ 0.          1.          0.          0.        ]\n",
      " [-0.70710678  0.          0.70710678 90.        ]\n",
      " [ 0.          0.          0.          1.        ]]\n",
      "\n",
      "\n",
      "El elemento (2,4) es:\n",
      " 0.0\n"
     ]
    }
   ],
   "source": [
    "#2 - Sea el dibujito del ejercicio 4. Se definen las ternas tool0 y tool. Calcular el elemento (2,4) de la matriz de rototraslacion\n",
    "#que expresa la tool en tool0 con dos decimales A^{tool}_{tool0}\n",
    "\n",
    "#Armamos la matriz de rototraslación segun enunciado.\n",
    "\n",
    "angulo = [0, np.pi/4, 0] #Llevo tool0 a tool\n",
    "\n",
    "R2 = dirEuler2(angulo)\n",
    "\n",
    "a = np.transpose(np.matrix([0, 0, 90]))\n",
    "b = np.matrix([0, 0, 0, 1])\n",
    "MatrizRT = np.concatenate((R2,a), axis = 1)\n",
    "MatrizRT = np.concatenate((MatrizRT,b), axis = 0)\n",
    "print(MatrizRT)\n",
    "print(\"\\n\")\n",
    "print(\"El elemento (2,4) es:\\n\", MatrizRT.item((1,3)))"
   ]
  },
  {
   "cell_type": "code",
   "execution_count": 15,
   "metadata": {},
   "outputs": [
    {
     "name": "stdout",
     "output_type": "stream",
     "text": [
      "[[ 0.93753852 -0.21276803  0.2752295 ]\n",
      " [ 0.2752295   0.93753852 -0.21276803]\n",
      " [-0.21276803  0.2752295   0.93753852]]\n",
      "\n",
      "\n",
      "El elemento (2,3) es:\n",
      " -0.2127680295259945\n"
     ]
    }
   ],
   "source": [
    "#3 - Si el eje de una rotación se define por k=[0.57735 0.57735 0.57735], con un ángulo de 25 grados, \n",
    "# calcular el elemento (2,3) de la matriz de rotación correspondiente con una precisión de 0.0001\n",
    "\n",
    "ejeRotacion = np.matrix(np.array([0.57735, 0.57735, 0.57735]))\n",
    "grados = np.pi*25/180\n",
    "R3 = rotK(ejeRotacion, grados)\n",
    "print(R3)\n",
    "print(\"\\n\")\n",
    "print(\"El elemento (2,3) es:\\n\", R3.item((1,2)))\n"
   ]
  },
  {
   "cell_type": "code",
   "execution_count": 72,
   "metadata": {},
   "outputs": [],
   "source": [
    "#4 Se tiene una traslacion p y rotacion como cuaternion Q\n",
    "\n",
    "#Esta sale sin cuentas, es sumarle 10mm en eje z de traslación al anterior ejercicio"
   ]
  },
  {
   "cell_type": "code",
   "execution_count": 20,
   "metadata": {},
   "outputs": [
    {
     "name": "stdout",
     "output_type": "stream",
     "text": [
      "[[ 0. -1.  0.]\n",
      " [ 1.  0.  0.]\n",
      " [ 0.  0.  1.]]\n",
      "\n",
      "\n",
      "Los ángulos en orden son [phi, theta y psi]:\n",
      "\n",
      "  [0.0, 0.0, 180.0]\n",
      "\n",
      "\n",
      "[[ 1.  0.  0.]\n",
      " [ 0.  0. -1.]\n",
      " [ 0.  1.  0.]]\n"
     ]
    }
   ],
   "source": [
    "#5 Se tiene una R, obtener los ángulos de rotación de Euler\n",
    "\n",
    "R5 = np.matrix([[0. , -1., 0.], [1., 0., 0.], [0., 0., 1.]])\n",
    "print(R5)\n",
    "print(\"\\n\")\n",
    "#Para el caso de ZYZ puedo calcular la inversa y obtener los ángulos. Para los ZXZ u otros tengo que hacerlos a mano ya que no\n",
    "#tengo la expresión genérica de la matriz como en la diapo. Se podría hacer pero da fiaca.\n",
    "\n",
    "InversaEuler5 = InvEuler(1, R5) #Acá le mando los 2 signos y me fijo si theta me da alguna de las opciones\n",
    "InversaEulerScale5 = [i * 180/np.pi for i in InversaEuler5]\n",
    "print(\"Los ángulos en orden son [phi, theta y psi]:\\n\\n \",InversaEulerScale5)\n",
    "print(\"\\n\")\n",
    "\n",
    "\n",
    "#Acá lo que puedo hacer es ir probando las diferentes opciones y ver si me dan la misma matriz\n",
    "\n",
    "R5_opcion = rotZ(0)*rotX(-np.pi/2)*rotZ(0)\n",
    "print(R5_opcion)\n",
    "\n",
    "#R51 == R5_opcion"
   ]
  }
 ],
 "metadata": {
  "kernelspec": {
   "display_name": "Python 3",
   "language": "python",
   "name": "python3"
  },
  "language_info": {
   "codemirror_mode": {
    "name": "ipython",
    "version": 3
   },
   "file_extension": ".py",
   "mimetype": "text/x-python",
   "name": "python",
   "nbconvert_exporter": "python",
   "pygments_lexer": "ipython3",
   "version": "3.8.2"
  }
 },
 "nbformat": 4,
 "nbformat_minor": 4
}
