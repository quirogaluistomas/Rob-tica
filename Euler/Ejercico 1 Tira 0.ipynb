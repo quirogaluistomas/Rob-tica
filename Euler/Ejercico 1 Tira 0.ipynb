{
 "cells": [
  {
   "cell_type": "code",
   "execution_count": 2,
   "metadata": {},
   "outputs": [],
   "source": [
    "import numpy as np\n",
    "import scipy as sp"
   ]
  },
  {
   "cell_type": "markdown",
   "metadata": {},
   "source": [
    "#### Problema directo de los cuaterniones"
   ]
  },
  {
   "cell_type": "code",
   "execution_count": 3,
   "metadata": {},
   "outputs": [],
   "source": [
    "def directoCuaternion(g,qx,qy,qz):\n",
    "    \n",
    "    aux = [[2*qx*qx + 2*g**2 - 1, 2*qx*qy - 2*g*qz, 2*qx*qz+2*g*qy], [2*qx*qy + 2*g*qz, 2*qy*qy+2*g**2 - 1, 2*qy*qz-2*g*qx], [2*qx*qz-2*g*qy, 2*qy*qz+2*g*qx, 2*qz*qz+2*g**2 - 1]]\n",
    "    Q = np.matrix(aux)\n",
    "    return(Q)"
   ]
  },
  {
   "cell_type": "code",
   "execution_count": 14,
   "metadata": {},
   "outputs": [],
   "source": [
    "#Creo la matriz de enunciado"
   ]
  },
  {
   "cell_type": "code",
   "execution_count": 4,
   "metadata": {},
   "outputs": [
    {
     "name": "stdout",
     "output_type": "stream",
     "text": [
      "[[-0.33333333 -0.66666667  0.66666667]\n",
      " [-0.66666667 -0.33333333 -0.66666667]\n",
      " [ 0.66666667 -0.66666667 -0.33333333]]\n"
     ]
    }
   ],
   "source": [
    "R = (1/3)*np.matrix([[-1, -2, 2],[-2, -1, -2],[2, -2, -1]])\n",
    "print(R)"
   ]
  },
  {
   "cell_type": "code",
   "execution_count": 5,
   "metadata": {},
   "outputs": [
    {
     "data": {
      "text/plain": [
       "matrix([[1., 0., 0.],\n",
       "        [0., 1., 0.],\n",
       "        [0., 0., 1.]])"
      ]
     },
     "execution_count": 5,
     "metadata": {},
     "output_type": "execute_result"
    }
   ],
   "source": [
    "#Chequeo que sea una matriz de rotación: Las col forman base ortonormal y la inversa es la transpuesta\n",
    "R.dot(np.transpose(R))"
   ]
  },
  {
   "cell_type": "markdown",
   "metadata": {},
   "source": [
    "#### Calculamos ahora el ángulo de rotación, según lo explicado en las diapositivas."
   ]
  },
  {
   "cell_type": "code",
   "execution_count": 7,
   "metadata": {},
   "outputs": [
    {
     "name": "stdout",
     "output_type": "stream",
     "text": [
      "El valor de g es:  0.0\n",
      "El valor de qx es: 0.5773502691896257\n",
      "El signo de qx es: 0.0\n"
     ]
    }
   ],
   "source": [
    "g = (1/2)*np.sqrt(np.trace(R)+1)\n",
    "print(\"El valor de g es: \", g)\n",
    "\n",
    "qx = (1/2)*np.sqrt(R[0,0] - R[1,1] - R[2,2] + 1) #Acá no le agregué el signo, sólo tomé el valor absoluto\n",
    "print(\"El valor de qx es:\" ,qx)\n",
    "\n",
    "signoqx = R[2,1] - R[1,2]\n",
    "print(\"El signo de qx es:\" , signoqx)"
   ]
  },
  {
   "cell_type": "markdown",
   "metadata": {},
   "source": [
    "#### Supongo el signo de qx positivo y tomando las ecs de las diapo, opero donde el signo de qy y qz queda determinado por asumir qx positivo. Si opero sumando o restando las componentes simétricas obtengo los signos de qy y qz según corresponda"
   ]
  },
  {
   "cell_type": "code",
   "execution_count": 80,
   "metadata": {},
   "outputs": [],
   "source": [
    "#Por ejemplo, sumo R[0,1] + R[1,0]\n",
    "\n",
    "qy = (R[0,1] + R[1,0])/(4*qx)\n",
    "\n",
    "if qy < 0:\n",
    "    signoqy = -1\n",
    "else:\n",
    "    signoqy = 1\n",
    "\n",
    "#Para qz podemos tomar por ejemplo, R[1,2] + R[2,1]\n",
    "\n",
    "qz = (R[0,2] + R[2,0])/(4*qx)\n",
    "\n",
    "\n",
    "if qz < 0:\n",
    "    signoqz = -1\n",
    "else:\n",
    "    signoqz = 1\n"
   ]
  },
  {
   "cell_type": "markdown",
   "metadata": {},
   "source": [
    "#### Una vez asignado los signos procedemos a calcular los parámetros"
   ]
  },
  {
   "cell_type": "code",
   "execution_count": 85,
   "metadata": {},
   "outputs": [
    {
     "name": "stdout",
     "output_type": "stream",
     "text": [
      "-0.5773502691896257\n",
      "0.5773502691896257\n"
     ]
    }
   ],
   "source": [
    "qy = signoqy*(1/2)*np.sqrt(R[1,1] - R[0,0] - R[2,2] + 1)\n",
    "print(qy)\n",
    "\n",
    "qz = signoqz*(1/2)*np.sqrt(R[2,2] - R[0,0] - R[1,1] + 1)\n",
    "print(qz)"
   ]
  },
  {
   "cell_type": "code",
   "execution_count": 112,
   "metadata": {},
   "outputs": [
    {
     "data": {
      "text/plain": [
       "matrix([[ 0.57735027],\n",
       "        [-0.57735027],\n",
       "        [ 0.57735027]])"
      ]
     },
     "execution_count": 112,
     "metadata": {},
     "output_type": "execute_result"
    }
   ],
   "source": [
    "#### Definimos el cuaternión\n",
    "Q = np.array([g, qx, qy, qz])\n",
    "#print(Q)\n",
    "\n",
    "Qinv = -1*Q\n",
    "#print(Qinv)\n",
    "\n",
    "vectorRotacion = Q[1:4]\n",
    "\n",
    "#Como k es AVE de R entonces R*k debería darme k\n",
    "k = np.transpose(np.matrix(vectorRotacion))\n",
    "#print(k)\n",
    "R.dot(k)"
   ]
  },
  {
   "cell_type": "code",
   "execution_count": 124,
   "metadata": {},
   "outputs": [
    {
     "name": "stdout",
     "output_type": "stream",
     "text": [
      "[[-0.33333333 -0.66666667  0.66666667]\n",
      " [-0.66666667 -0.33333333 -0.66666667]\n",
      " [ 0.66666667 -0.66666667 -0.33333333]]\n"
     ]
    }
   ],
   "source": [
    "Rq = directoCuaternion(g,qx,qy,qz)\n",
    "print(Rq)"
   ]
  },
  {
   "cell_type": "markdown",
   "metadata": {},
   "source": [
    "#### Si en vez de qx positivo le enviamos qx negativo deberíamos obtener la misma matrix de rotación Rq (R de enunciado). Esto sucede porque g es igual a cero y se confunde con rotar pi o -pi"
   ]
  },
  {
   "cell_type": "code",
   "execution_count": null,
   "metadata": {},
   "outputs": [],
   "source": []
  }
 ],
 "metadata": {
  "kernelspec": {
   "display_name": "Python 3",
   "language": "python",
   "name": "python3"
  },
  "language_info": {
   "codemirror_mode": {
    "name": "ipython",
    "version": 3
   },
   "file_extension": ".py",
   "mimetype": "text/x-python",
   "name": "python",
   "nbconvert_exporter": "python",
   "pygments_lexer": "ipython3",
   "version": "3.8.2"
  }
 },
 "nbformat": 4,
 "nbformat_minor": 4
}
