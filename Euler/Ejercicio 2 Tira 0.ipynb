{
 "cells": [
  {
   "cell_type": "code",
   "execution_count": 32,
   "metadata": {},
   "outputs": [],
   "source": [
    "import numpy as np\n",
    "import scipy as sp"
   ]
  },
  {
   "cell_type": "code",
   "execution_count": 33,
   "metadata": {},
   "outputs": [],
   "source": [
    "def directoCuaternion(g,qx,qy,qz):\n",
    "    \n",
    "    aux = [[2*qx*qx + 2*g**2 - 1, 2*qx*qy - 2*g*qz, 2*qx*qz+2*g*qy], [2*qx*qy + 2*g*qz, 2*qy*qy+2*g**2 - 1, 2*qy*qz-2*g*qx], [2*qx*qz-2*g*qy, 2*qy*qz+2*g*qx, 2*qz*qz+2*g**2 - 1]]\n",
    "    Q = np.matrix(aux)\n",
    "    return(Q)"
   ]
  },
  {
   "cell_type": "code",
   "execution_count": 5,
   "metadata": {},
   "outputs": [],
   "source": [
    "#Creamos la matriz de enunciado"
   ]
  },
  {
   "cell_type": "code",
   "execution_count": 3,
   "metadata": {},
   "outputs": [
    {
     "name": "stdout",
     "output_type": "stream",
     "text": [
      "[[-1  0  0]\n",
      " [ 0  0 -1]\n",
      " [ 0 -1  0]]\n"
     ]
    }
   ],
   "source": [
    "R = np.matrix([[-1, 0, 0],[0, 0, -1],[0, -1, 0]])\n",
    "print(R)"
   ]
  },
  {
   "cell_type": "code",
   "execution_count": 21,
   "metadata": {},
   "outputs": [
    {
     "name": "stdout",
     "output_type": "stream",
     "text": [
      "El valor de g es:  0.0\n",
      "El valor del máximo está en la posición:  1\n"
     ]
    }
   ],
   "source": [
    "g = (1/2)*np.sqrt(np.trace(R)+1)\n",
    "print(\"El valor de g es: \", g)\n",
    "\n",
    "#En este caso no se puede utilizar qx porque su valor absoluto es 0 y no puedo asignarle un signo al número 0, por lo tanto\n",
    "#debo comenzar con otro, por ejemplo, qy. Aunque en realidad debería fijar el signo del componente más grande.\n",
    "\n",
    "\n",
    "qx = (1/2)*np.sqrt(R[0,0] - R[1,1] - R[2,2] + 1)\n",
    "#print(\"El valor de qx es:\" ,qx)\n",
    "\n",
    "qy = (1/2)*np.sqrt(R[1,1] - R[0,0] - R[2,2] + 1)\n",
    "#print(\"El valor de qy es:\", qy)\n",
    "\n",
    "qz = (1/2)*np.sqrt(R[2,2] - R[0,0] - R[1,1] + 1)\n",
    "#print(\"El valor de qz es:\", qz)\n",
    "\n",
    "maximo = np.argmax([qx, qy, qz])\n",
    "print(\"El valor del máximo está en la posición: \", maximo)"
   ]
  },
  {
   "cell_type": "code",
   "execution_count": 27,
   "metadata": {},
   "outputs": [
    {
     "name": "stdout",
     "output_type": "stream",
     "text": [
      "0.7071067811865476\n",
      "-0.7071067811865476\n"
     ]
    }
   ],
   "source": [
    "#Tomo entonces el valor de qy\n",
    "signoqy = 1 #Positivo\n",
    "\n",
    "qy = signoqy*(1/2)*np.sqrt(R[1,1] - R[0,0] - R[2,2] + 1)\n",
    "print(qy)\n",
    "#Ahora mediante las mismas cuentas que antes defino los signos de qz a partir de qy, ya que qx es cero no hace falta.\n",
    "\n",
    "qz = (R[2,1] + R[1,2])/(4*qy)\n",
    "\n",
    "if qz < 0:\n",
    "    signoqz = -1\n",
    "else:\n",
    "    signoqz = 1\n",
    "\n",
    "\n",
    "qz = signoqz*(1/2)*np.sqrt(R[2,2] - R[0,0] - R[1,1] + 1)\n",
    "print(qz)"
   ]
  },
  {
   "cell_type": "markdown",
   "metadata": {},
   "source": [
    "#### Después sigue como en el anterior"
   ]
  },
  {
   "cell_type": "code",
   "execution_count": 31,
   "metadata": {},
   "outputs": [],
   "source": [
    "#Definimos entonces el cuaternion\n",
    "Q = np.array([g, qx, qy, qz])"
   ]
  },
  {
   "cell_type": "markdown",
   "metadata": {},
   "source": [
    "#### Verifico como antes que hice bien las cosas"
   ]
  },
  {
   "cell_type": "code",
   "execution_count": 34,
   "metadata": {},
   "outputs": [
    {
     "name": "stdout",
     "output_type": "stream",
     "text": [
      "[[-1.00000000e+00  0.00000000e+00  0.00000000e+00]\n",
      " [ 0.00000000e+00  2.22044605e-16 -1.00000000e+00]\n",
      " [-0.00000000e+00 -1.00000000e+00  2.22044605e-16]]\n"
     ]
    }
   ],
   "source": [
    "Rq = directoCuaternion(g,qx,qy,qz)\n",
    "print(Rq)"
   ]
  }
 ],
 "metadata": {
  "kernelspec": {
   "display_name": "Python 3",
   "language": "python",
   "name": "python3"
  },
  "language_info": {
   "codemirror_mode": {
    "name": "ipython",
    "version": 3
   },
   "file_extension": ".py",
   "mimetype": "text/x-python",
   "name": "python",
   "nbconvert_exporter": "python",
   "pygments_lexer": "ipython3",
   "version": "3.8.2"
  }
 },
 "nbformat": 4,
 "nbformat_minor": 4
}
